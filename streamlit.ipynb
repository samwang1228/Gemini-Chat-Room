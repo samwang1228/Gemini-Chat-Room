{
  "nbformat": 4,
  "nbformat_minor": 0,
  "metadata": {
    "colab": {
      "provenance": [],
      "authorship_tag": "ABX9TyM+8D9WXW4Qom3vGLX0IhqY",
      "include_colab_link": true
    },
    "kernelspec": {
      "name": "python3",
      "display_name": "Python 3"
    },
    "language_info": {
      "name": "python"
    }
  },
  "cells": [
    {
      "cell_type": "markdown",
      "metadata": {
        "id": "view-in-github",
        "colab_type": "text"
      },
      "source": [
        "<a href=\"https://colab.research.google.com/github/samwang1228/Gemini-Chat-Room/blob/main/streamlit.ipynb\" target=\"_parent\"><img src=\"https://colab.research.google.com/assets/colab-badge.svg\" alt=\"Open In Colab\"/></a>"
      ]
    },
    {
      "cell_type": "code",
      "source": [
        "pip install streamlit"
      ],
      "metadata": {
        "colab": {
          "base_uri": "https://localhost:8080/"
        },
        "id": "v4Skf3CXnHxX",
        "outputId": "bbf3c2c6-d218-4fc6-d5b0-1cdedb7f3f6f"
      },
      "execution_count": 1,
      "outputs": [
        {
          "output_type": "stream",
          "name": "stdout",
          "text": [
            "Collecting streamlit\n",
            "  Downloading streamlit-1.33.0-py2.py3-none-any.whl (8.1 MB)\n",
            "\u001b[2K     \u001b[90m━━━━━━━━━━━━━━━━━━━━━━━━━━━━━━━━━━━━━━━━\u001b[0m \u001b[32m8.1/8.1 MB\u001b[0m \u001b[31m51.8 MB/s\u001b[0m eta \u001b[36m0:00:00\u001b[0m\n",
            "\u001b[?25hRequirement already satisfied: altair<6,>=4.0 in /usr/local/lib/python3.10/dist-packages (from streamlit) (4.2.2)\n",
            "Requirement already satisfied: blinker<2,>=1.0.0 in /usr/lib/python3/dist-packages (from streamlit) (1.4)\n",
            "Requirement already satisfied: cachetools<6,>=4.0 in /usr/local/lib/python3.10/dist-packages (from streamlit) (5.3.3)\n",
            "Requirement already satisfied: click<9,>=7.0 in /usr/local/lib/python3.10/dist-packages (from streamlit) (8.1.7)\n",
            "Requirement already satisfied: numpy<2,>=1.19.3 in /usr/local/lib/python3.10/dist-packages (from streamlit) (1.25.2)\n",
            "Requirement already satisfied: packaging<25,>=16.8 in /usr/local/lib/python3.10/dist-packages (from streamlit) (24.0)\n",
            "Requirement already satisfied: pandas<3,>=1.3.0 in /usr/local/lib/python3.10/dist-packages (from streamlit) (2.0.3)\n",
            "Requirement already satisfied: pillow<11,>=7.1.0 in /usr/local/lib/python3.10/dist-packages (from streamlit) (9.4.0)\n",
            "Requirement already satisfied: protobuf<5,>=3.20 in /usr/local/lib/python3.10/dist-packages (from streamlit) (3.20.3)\n",
            "Requirement already satisfied: pyarrow>=7.0 in /usr/local/lib/python3.10/dist-packages (from streamlit) (14.0.2)\n",
            "Requirement already satisfied: requests<3,>=2.27 in /usr/local/lib/python3.10/dist-packages (from streamlit) (2.31.0)\n",
            "Requirement already satisfied: rich<14,>=10.14.0 in /usr/local/lib/python3.10/dist-packages (from streamlit) (13.7.1)\n",
            "Requirement already satisfied: tenacity<9,>=8.1.0 in /usr/local/lib/python3.10/dist-packages (from streamlit) (8.2.3)\n",
            "Requirement already satisfied: toml<2,>=0.10.1 in /usr/local/lib/python3.10/dist-packages (from streamlit) (0.10.2)\n",
            "Requirement already satisfied: typing-extensions<5,>=4.3.0 in /usr/local/lib/python3.10/dist-packages (from streamlit) (4.11.0)\n",
            "Collecting gitpython!=3.1.19,<4,>=3.0.7 (from streamlit)\n",
            "  Downloading GitPython-3.1.43-py3-none-any.whl (207 kB)\n",
            "\u001b[2K     \u001b[90m━━━━━━━━━━━━━━━━━━━━━━━━━━━━━━━━━━━━━━━━\u001b[0m \u001b[32m207.3/207.3 kB\u001b[0m \u001b[31m22.8 MB/s\u001b[0m eta \u001b[36m0:00:00\u001b[0m\n",
            "\u001b[?25hCollecting pydeck<1,>=0.8.0b4 (from streamlit)\n",
            "  Downloading pydeck-0.8.1b0-py2.py3-none-any.whl (4.8 MB)\n",
            "\u001b[2K     \u001b[90m━━━━━━━━━━━━━━━━━━━━━━━━━━━━━━━━━━━━━━━━\u001b[0m \u001b[32m4.8/4.8 MB\u001b[0m \u001b[31m83.2 MB/s\u001b[0m eta \u001b[36m0:00:00\u001b[0m\n",
            "\u001b[?25hRequirement already satisfied: tornado<7,>=6.0.3 in /usr/local/lib/python3.10/dist-packages (from streamlit) (6.3.3)\n",
            "Collecting watchdog>=2.1.5 (from streamlit)\n",
            "  Downloading watchdog-4.0.0-py3-none-manylinux2014_x86_64.whl (82 kB)\n",
            "\u001b[2K     \u001b[90m━━━━━━━━━━━━━━━━━━━━━━━━━━━━━━━━━━━━━━━━\u001b[0m \u001b[32m83.0/83.0 kB\u001b[0m \u001b[31m10.2 MB/s\u001b[0m eta \u001b[36m0:00:00\u001b[0m\n",
            "\u001b[?25hRequirement already satisfied: entrypoints in /usr/local/lib/python3.10/dist-packages (from altair<6,>=4.0->streamlit) (0.4)\n",
            "Requirement already satisfied: jinja2 in /usr/local/lib/python3.10/dist-packages (from altair<6,>=4.0->streamlit) (3.1.3)\n",
            "Requirement already satisfied: jsonschema>=3.0 in /usr/local/lib/python3.10/dist-packages (from altair<6,>=4.0->streamlit) (4.19.2)\n",
            "Requirement already satisfied: toolz in /usr/local/lib/python3.10/dist-packages (from altair<6,>=4.0->streamlit) (0.12.1)\n",
            "Collecting gitdb<5,>=4.0.1 (from gitpython!=3.1.19,<4,>=3.0.7->streamlit)\n",
            "  Downloading gitdb-4.0.11-py3-none-any.whl (62 kB)\n",
            "\u001b[2K     \u001b[90m━━━━━━━━━━━━━━━━━━━━━━━━━━━━━━━━━━━━━━━━\u001b[0m \u001b[32m62.7/62.7 kB\u001b[0m \u001b[31m7.4 MB/s\u001b[0m eta \u001b[36m0:00:00\u001b[0m\n",
            "\u001b[?25hRequirement already satisfied: python-dateutil>=2.8.2 in /usr/local/lib/python3.10/dist-packages (from pandas<3,>=1.3.0->streamlit) (2.8.2)\n",
            "Requirement already satisfied: pytz>=2020.1 in /usr/local/lib/python3.10/dist-packages (from pandas<3,>=1.3.0->streamlit) (2023.4)\n",
            "Requirement already satisfied: tzdata>=2022.1 in /usr/local/lib/python3.10/dist-packages (from pandas<3,>=1.3.0->streamlit) (2024.1)\n",
            "Requirement already satisfied: charset-normalizer<4,>=2 in /usr/local/lib/python3.10/dist-packages (from requests<3,>=2.27->streamlit) (3.3.2)\n",
            "Requirement already satisfied: idna<4,>=2.5 in /usr/local/lib/python3.10/dist-packages (from requests<3,>=2.27->streamlit) (3.7)\n",
            "Requirement already satisfied: urllib3<3,>=1.21.1 in /usr/local/lib/python3.10/dist-packages (from requests<3,>=2.27->streamlit) (2.0.7)\n",
            "Requirement already satisfied: certifi>=2017.4.17 in /usr/local/lib/python3.10/dist-packages (from requests<3,>=2.27->streamlit) (2024.2.2)\n",
            "Requirement already satisfied: markdown-it-py>=2.2.0 in /usr/local/lib/python3.10/dist-packages (from rich<14,>=10.14.0->streamlit) (3.0.0)\n",
            "Requirement already satisfied: pygments<3.0.0,>=2.13.0 in /usr/local/lib/python3.10/dist-packages (from rich<14,>=10.14.0->streamlit) (2.16.1)\n",
            "Collecting smmap<6,>=3.0.1 (from gitdb<5,>=4.0.1->gitpython!=3.1.19,<4,>=3.0.7->streamlit)\n",
            "  Downloading smmap-5.0.1-py3-none-any.whl (24 kB)\n",
            "Requirement already satisfied: MarkupSafe>=2.0 in /usr/local/lib/python3.10/dist-packages (from jinja2->altair<6,>=4.0->streamlit) (2.1.5)\n",
            "Requirement already satisfied: attrs>=22.2.0 in /usr/local/lib/python3.10/dist-packages (from jsonschema>=3.0->altair<6,>=4.0->streamlit) (23.2.0)\n",
            "Requirement already satisfied: jsonschema-specifications>=2023.03.6 in /usr/local/lib/python3.10/dist-packages (from jsonschema>=3.0->altair<6,>=4.0->streamlit) (2023.12.1)\n",
            "Requirement already satisfied: referencing>=0.28.4 in /usr/local/lib/python3.10/dist-packages (from jsonschema>=3.0->altair<6,>=4.0->streamlit) (0.34.0)\n",
            "Requirement already satisfied: rpds-py>=0.7.1 in /usr/local/lib/python3.10/dist-packages (from jsonschema>=3.0->altair<6,>=4.0->streamlit) (0.18.0)\n",
            "Requirement already satisfied: mdurl~=0.1 in /usr/local/lib/python3.10/dist-packages (from markdown-it-py>=2.2.0->rich<14,>=10.14.0->streamlit) (0.1.2)\n",
            "Requirement already satisfied: six>=1.5 in /usr/local/lib/python3.10/dist-packages (from python-dateutil>=2.8.2->pandas<3,>=1.3.0->streamlit) (1.16.0)\n",
            "Installing collected packages: watchdog, smmap, pydeck, gitdb, gitpython, streamlit\n",
            "Successfully installed gitdb-4.0.11 gitpython-3.1.43 pydeck-0.8.1b0 smmap-5.0.1 streamlit-1.33.0 watchdog-4.0.0\n"
          ]
        }
      ]
    },
    {
      "cell_type": "code",
      "source": [
        "%%writefile app.py"
      ],
      "metadata": {
        "colab": {
          "base_uri": "https://localhost:8080/"
        },
        "id": "VIaawv9ZnItG",
        "outputId": "5ffd378e-8758-4882-9580-e0d9b97cf5ba"
      },
      "execution_count": 2,
      "outputs": [
        {
          "output_type": "stream",
          "name": "stdout",
          "text": [
            "Writing app.py\n"
          ]
        }
      ]
    },
    {
      "cell_type": "markdown",
      "source": [
        "# 獲取公網IP\n",
        "! wget -q -O - ipv4.icanhazip.com\n",
        "\n",
        "* wget 是一個從網絡上自動下載檔案的自由工具，支持HTTP、HTTPS和FTP協議。\n",
        "-q 表示quiet模式，即不顯示任何下載資訊。\n",
        "-O - 表示將下載的內容輸出到標準輸出（stdout）而非檔案。\n",
        "ipv4.icanhazip.com 是一個提供服務的URL，當你訪問它時，它會返回你的公共IPv4地址。"
      ],
      "metadata": {
        "id": "bDsUyIW_pvPC"
      }
    },
    {
      "cell_type": "code",
      "source": [
        "! wget -q -O - ipv4.icanhazip.com"
      ],
      "metadata": {
        "colab": {
          "base_uri": "https://localhost:8080/"
        },
        "id": "5fB6qIZznI4S",
        "outputId": "691555b6-1baa-4d54-f37a-9ee813369a0b"
      },
      "execution_count": 3,
      "outputs": [
        {
          "output_type": "stream",
          "name": "stdout",
          "text": [
            "35.245.85.178\n"
          ]
        }
      ]
    },
    {
      "cell_type": "markdown",
      "source": [
        "# 啟動服務\n",
        "! streamlit run app.py & npx localtunnel --port 8501\n",
        "\n",
        "這條指令實際上包含了兩個部分，通過&符號分隔，表示同時執行兩個命令：\n",
        "* streamlit run app.py\n",
        "  * streamlit 是一個用於快速創建和分享數據應用的Python庫。\n",
        "  * run app.py 表示運行名為app.py的Streamlit應用程序。\n",
        "* npx localtunnel --port 8501\n",
        "  * npx 是一個Node.js的套件執行器，用於執行在package.json檔案中列出的套件。\n",
        "  * localtunnel 是一個工具，可以將你本地的服務通過公共URL公開到互聯網上。\n",
        "  * --port 8501 表示將本地的8501端口的服務公開出去。Streamlit默認在8501端口運行，因此這裡指的是將Streamlit應用公開到互聯網上。"
      ],
      "metadata": {
        "id": "dR4rXQYXqAqR"
      }
    },
    {
      "cell_type": "code",
      "source": [
        "! streamlit run app.py & npx localtunnel --port 8501"
      ],
      "metadata": {
        "colab": {
          "base_uri": "https://localhost:8080/"
        },
        "id": "9QnW2bpvneiU",
        "outputId": "92f3355c-ad23-4c34-ab92-48b45dae1020"
      },
      "execution_count": 9,
      "outputs": [
        {
          "output_type": "stream",
          "name": "stdout",
          "text": [
            "\n",
            "Collecting usage statistics. To deactivate, set browser.gatherUsageStats to false.\n",
            "\u001b[0m\n",
            "\u001b[0m\n",
            "\u001b[34m\u001b[1m  You can now view your Streamlit app in your browser.\u001b[0m\n",
            "\u001b[0m\n",
            "\u001b[34m  Network URL: \u001b[0m\u001b[1mhttp://172.28.0.12:8501\u001b[0m\n",
            "\u001b[34m  External URL: \u001b[0m\u001b[1mhttp://35.245.85.178:8501\u001b[0m\n",
            "\u001b[0m\n",
            "\u001b[K\u001b[?25hnpx: installed 22 in 2.196s\n",
            "your url is: https://cuddly-hotels-accept.loca.lt\n",
            "\u001b[34m  Stopping...\u001b[0m\n",
            "^C\n"
          ]
        }
      ]
    },
    {
      "cell_type": "markdown",
      "source": [
        "# 主要code"
      ],
      "metadata": {
        "id": "bmAisSTdq5dv"
      }
    },
    {
      "cell_type": "code",
      "execution_count": null,
      "metadata": {
        "id": "Ks1ptEual_KL"
      },
      "outputs": [],
      "source": [
        "import streamlit as st\n",
        "from PIL import Image\n",
        "import google.generativeai as genai\n",
        "\n",
        "\n",
        "\n",
        "\n",
        "with open(\"key.txt\") as f:\n",
        "  key=f.read()\n",
        "genai.configure(api_key=key)\n",
        "def get_gemini_response(model_name,prompt, temperature, top_k,top_p):\n",
        "    generation_config = {\n",
        "        \"temperature\": temperature,\n",
        "        \"top_p\": 1,\n",
        "        \"top_k\": top_k,\n",
        "        \"max_output_tokens\": 2048,\n",
        "    }\n",
        "\n",
        "    model = genai.GenerativeModel(model_name\n",
        "                                  ,generation_config=generation_config\n",
        "                                  )\n",
        "\n",
        "    response = model.generate_content(prompt)\n",
        "    return response.text\n",
        "\n",
        "# 初始化Streamlit應用\n",
        "st.set_page_config(page_title=\"Gemini Image Chatbot\")\n",
        "\n",
        "# 定義各個頁面的功能\n",
        "def home_page():\n",
        "    st.header(\"Gemini應用\")\n",
        "    # 設置gemini 參數\n",
        "    temperature = st.sidebar.slider('temperature', min_value=0.0, max_value=1.0, value=0.7)\n",
        "    top_p = st.sidebar.slider('top_p', min_value=0.0, max_value=1.0, value=1.0)\n",
        "    top_k = st.sidebar.number_input('Top K', min_value=1, max_value=10, value=1, step=1)\n",
        "    # 設置聊天記錄\n",
        "    if 'chat_history' not in st.session_state:\n",
        "        st.session_state['chat_history'] = []\n",
        "\n",
        "    # 聊天室佈局\n",
        "    chat_container = st.container()\n",
        "\n",
        "    # 創建form\n",
        "    with st.form(\"chat_form\", clear_on_submit=True):\n",
        "        input_text = st.text_input(\"Your message:\")\n",
        "        uploaded_file = st.file_uploader(\"Upload an image (optional):\", type=[\"jpg\", \"jpeg\", \"png\"])\n",
        "        submit_button = st.form_submit_button(\"Send\")\n",
        "\n",
        "        if uploaded_file is not None:\n",
        "            # 顯示上傳完成提示\n",
        "            st.success('Upload finished!')\n",
        "\n",
        "        if submit_button and (input_text or uploaded_file):\n",
        "            # submit且有內容\n",
        "            if uploaded_file:\n",
        "                # image and text\n",
        "                image = Image.open(uploaded_file)\n",
        "                response = get_gemini_response(\"gemini-pro-vision\",[input_text, image],temperature,top_k,top_p)\n",
        "\n",
        "            else:\n",
        "                # only text\n",
        "                response = get_gemini_response(\"gemini-1.0-pro\",input_text,temperature,top_k,top_p)\n",
        "                image = None\n",
        "\n",
        "            # 新增至歷史紀錄\n",
        "            st.session_state['chat_history'].append((\"You\", input_text, image))\n",
        "            st.session_state['chat_history'].append((\"Bot\", response, None))\n",
        "\n",
        "    with chat_container:\n",
        "        for idx, (user, text, img) in enumerate(st.session_state['chat_history']):\n",
        "            # 取得紀錄\n",
        "            if user == \"You\":\n",
        "                # 用戶的訊息和圖標\n",
        "                st.markdown(f\"<img src='https://resources.matcha-jp.com/resize/720x2000/2020/03/20-99819.webp' class='icon' style='width: 50px; height: auto;'> **You (message {idx}):**\", unsafe_allow_html=True)\n",
        "                st.markdown(f\"{text}\")\n",
        "            else:\n",
        "                # 機器人的訊息和圖標\n",
        "                st.markdown(f\"<img src='https://cdn-icons-png.flaticon.com/512/4712/4712035.png' class='icon' style='width: 50px; height: auto;'> **Bot replied (message {idx}):**\", unsafe_allow_html=True)\n",
        "                st.markdown(f\"{text}\")\n",
        "            if img is not None:\n",
        "                st.image(img, use_column_width=True)\n",
        "\n",
        "\n",
        "    st.write(\"Welcome to the home page!\")\n",
        "\n",
        "\n",
        "\n",
        "def chatbot_page():\n",
        "    st.title(\"Chatbot Page\")\n",
        "    st.write(\"Here you can interact with the chatbot.\")\n",
        "\n",
        "def settings_page():\n",
        "    st.title(\"Settings Page\")\n",
        "    st.write(\"Adjust the application settings here.\")\n",
        "\n",
        "with st.sidebar:\n",
        "    st.title(\"Navigation\")\n",
        "    page = st.radio(\"Choose a page:\", ['Home', 'Chatbot', 'Settings'])\n",
        "\n",
        "if page == 'Home':\n",
        "    home_page()\n",
        "elif page == 'Chatbot':\n",
        "    chatbot_page()\n",
        "elif page == 'Settings':\n",
        "    settings_page()\n",
        "\n"
      ]
    },
    {
      "cell_type": "code",
      "source": [],
      "metadata": {
        "id": "2wvv1OTX_i6S"
      },
      "execution_count": null,
      "outputs": []
    }
  ]
}